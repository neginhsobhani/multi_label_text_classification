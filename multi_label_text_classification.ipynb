{
  "cells": [
    {
      "cell_type": "markdown",
      "metadata": {
        "id": "Bij91pNWQOR5"
      },
      "source": [
        "# Multi-label text classification\n",
        "\n",
        "**Author:** [Farrokh Karimi](https://farrokhkarimi.github.io/)  \n",
        "**Description:** In this notebook, we want to classify the Ronash dataset into 20 category."
      ]
    },
    {
      "cell_type": "code",
      "execution_count": 90,
      "metadata": {
        "id": "sL739kMAEsU9"
      },
      "outputs": [],
      "source": [
        "import matplotlib.pyplot as plt\n",
        "import numpy as np\n",
        "import pandas as pd\n",
        "import re\n",
        "import tensorflow as tf\n",
        "import warnings\n",
        "from collections import Counter\n",
        "from sklearn.model_selection import train_test_split\n",
        "from tensorflow.keras import layers"
      ]
    },
    {
      "cell_type": "code",
      "execution_count": 2,
      "metadata": {
        "colab": {
          "base_uri": "https://localhost:8080/"
        },
        "id": "SHa9m3aLEbyP",
        "outputId": "9db9413b-2132-4f4c-a21d-bfb9c48d7403"
      },
      "outputs": [
        {
          "output_type": "stream",
          "name": "stdout",
          "text": [
            "Downloading...\n",
            "From: https://drive.google.com/uc?id=1Yq3XTnACkvaIiNlhX09Zth55nOau7jQy\n",
            "To: /content/Ronash_DS_Assignment.csv\n",
            "\r  0% 0.00/1.05M [00:00<?, ?B/s]\r100% 1.05M/1.05M [00:00<00:00, 42.8MB/s]\n"
          ]
        }
      ],
      "source": [
        "# downloading Data from the Google Drive link\n",
        "!gdown 1Yq3XTnACkvaIiNlhX09Zth55nOau7jQy"
      ]
    },
    {
      "cell_type": "code",
      "execution_count": 5,
      "metadata": {
        "colab": {
          "base_uri": "https://localhost:8080/",
          "height": 206
        },
        "id": "722bMOmzF4_H",
        "outputId": "2bfc30c3-e384-483f-b636-3085864f4c12"
      },
      "outputs": [
        {
          "output_type": "execute_result",
          "data": {
            "text/plain": [
              "      product_id                                            title      vendor  \\\n",
              "0  3937721221199  Fidele Super Premium Adult Large Breed Dog Food      Fidele   \n",
              "1  7353058033889                  Foldable Pet Toys Linen Storage   Cap Point   \n",
              "2  6594773549129                                   Bok Dok Diaper   Pets Home   \n",
              "3  4802008318014                            Tastybone Toy Chicken   TastyBone   \n",
              "4  1779705151539              Leather Leash Tab - Short Dog Leash  Mighty Paw   \n",
              "\n",
              "                                                tags                category  \n",
              "0  ['Adult', 'Bangalore', 'Chennai', 'Chicken', '...  Animals & Pet Supplies  \n",
              "1                                                 []  Animals & Pet Supplies  \n",
              "2  ['Brand_Pet Arabia', 'Category_Pets Home', 'Ca...  Animals & Pet Supplies  \n",
              "3                                                 []  Animals & Pet Supplies  \n",
              "4                 ['Leash', 'Leash Tab', 'Training']  Animals & Pet Supplies  "
            ],
            "text/html": [
              "\n",
              "  <div id=\"df-af93d9e8-1e9c-454c-be76-c5a44f5b8123\" class=\"colab-df-container\">\n",
              "    <div>\n",
              "<style scoped>\n",
              "    .dataframe tbody tr th:only-of-type {\n",
              "        vertical-align: middle;\n",
              "    }\n",
              "\n",
              "    .dataframe tbody tr th {\n",
              "        vertical-align: top;\n",
              "    }\n",
              "\n",
              "    .dataframe thead th {\n",
              "        text-align: right;\n",
              "    }\n",
              "</style>\n",
              "<table border=\"1\" class=\"dataframe\">\n",
              "  <thead>\n",
              "    <tr style=\"text-align: right;\">\n",
              "      <th></th>\n",
              "      <th>product_id</th>\n",
              "      <th>title</th>\n",
              "      <th>vendor</th>\n",
              "      <th>tags</th>\n",
              "      <th>category</th>\n",
              "    </tr>\n",
              "  </thead>\n",
              "  <tbody>\n",
              "    <tr>\n",
              "      <th>0</th>\n",
              "      <td>3937721221199</td>\n",
              "      <td>Fidele Super Premium Adult Large Breed Dog Food</td>\n",
              "      <td>Fidele</td>\n",
              "      <td>['Adult', 'Bangalore', 'Chennai', 'Chicken', '...</td>\n",
              "      <td>Animals &amp; Pet Supplies</td>\n",
              "    </tr>\n",
              "    <tr>\n",
              "      <th>1</th>\n",
              "      <td>7353058033889</td>\n",
              "      <td>Foldable Pet Toys Linen Storage</td>\n",
              "      <td>Cap Point</td>\n",
              "      <td>[]</td>\n",
              "      <td>Animals &amp; Pet Supplies</td>\n",
              "    </tr>\n",
              "    <tr>\n",
              "      <th>2</th>\n",
              "      <td>6594773549129</td>\n",
              "      <td>Bok Dok Diaper</td>\n",
              "      <td>Pets Home</td>\n",
              "      <td>['Brand_Pet Arabia', 'Category_Pets Home', 'Ca...</td>\n",
              "      <td>Animals &amp; Pet Supplies</td>\n",
              "    </tr>\n",
              "    <tr>\n",
              "      <th>3</th>\n",
              "      <td>4802008318014</td>\n",
              "      <td>Tastybone Toy Chicken</td>\n",
              "      <td>TastyBone</td>\n",
              "      <td>[]</td>\n",
              "      <td>Animals &amp; Pet Supplies</td>\n",
              "    </tr>\n",
              "    <tr>\n",
              "      <th>4</th>\n",
              "      <td>1779705151539</td>\n",
              "      <td>Leather Leash Tab - Short Dog Leash</td>\n",
              "      <td>Mighty Paw</td>\n",
              "      <td>['Leash', 'Leash Tab', 'Training']</td>\n",
              "      <td>Animals &amp; Pet Supplies</td>\n",
              "    </tr>\n",
              "  </tbody>\n",
              "</table>\n",
              "</div>\n",
              "    <div class=\"colab-df-buttons\">\n",
              "\n",
              "  <div class=\"colab-df-container\">\n",
              "    <button class=\"colab-df-convert\" onclick=\"convertToInteractive('df-af93d9e8-1e9c-454c-be76-c5a44f5b8123')\"\n",
              "            title=\"Convert this dataframe to an interactive table.\"\n",
              "            style=\"display:none;\">\n",
              "\n",
              "  <svg xmlns=\"http://www.w3.org/2000/svg\" height=\"24px\" viewBox=\"0 -960 960 960\">\n",
              "    <path d=\"M120-120v-720h720v720H120Zm60-500h600v-160H180v160Zm220 220h160v-160H400v160Zm0 220h160v-160H400v160ZM180-400h160v-160H180v160Zm440 0h160v-160H620v160ZM180-180h160v-160H180v160Zm440 0h160v-160H620v160Z\"/>\n",
              "  </svg>\n",
              "    </button>\n",
              "\n",
              "  <style>\n",
              "    .colab-df-container {\n",
              "      display:flex;\n",
              "      gap: 12px;\n",
              "    }\n",
              "\n",
              "    .colab-df-convert {\n",
              "      background-color: #E8F0FE;\n",
              "      border: none;\n",
              "      border-radius: 50%;\n",
              "      cursor: pointer;\n",
              "      display: none;\n",
              "      fill: #1967D2;\n",
              "      height: 32px;\n",
              "      padding: 0 0 0 0;\n",
              "      width: 32px;\n",
              "    }\n",
              "\n",
              "    .colab-df-convert:hover {\n",
              "      background-color: #E2EBFA;\n",
              "      box-shadow: 0px 1px 2px rgba(60, 64, 67, 0.3), 0px 1px 3px 1px rgba(60, 64, 67, 0.15);\n",
              "      fill: #174EA6;\n",
              "    }\n",
              "\n",
              "    .colab-df-buttons div {\n",
              "      margin-bottom: 4px;\n",
              "    }\n",
              "\n",
              "    [theme=dark] .colab-df-convert {\n",
              "      background-color: #3B4455;\n",
              "      fill: #D2E3FC;\n",
              "    }\n",
              "\n",
              "    [theme=dark] .colab-df-convert:hover {\n",
              "      background-color: #434B5C;\n",
              "      box-shadow: 0px 1px 3px 1px rgba(0, 0, 0, 0.15);\n",
              "      filter: drop-shadow(0px 1px 2px rgba(0, 0, 0, 0.3));\n",
              "      fill: #FFFFFF;\n",
              "    }\n",
              "  </style>\n",
              "\n",
              "    <script>\n",
              "      const buttonEl =\n",
              "        document.querySelector('#df-af93d9e8-1e9c-454c-be76-c5a44f5b8123 button.colab-df-convert');\n",
              "      buttonEl.style.display =\n",
              "        google.colab.kernel.accessAllowed ? 'block' : 'none';\n",
              "\n",
              "      async function convertToInteractive(key) {\n",
              "        const element = document.querySelector('#df-af93d9e8-1e9c-454c-be76-c5a44f5b8123');\n",
              "        const dataTable =\n",
              "          await google.colab.kernel.invokeFunction('convertToInteractive',\n",
              "                                                    [key], {});\n",
              "        if (!dataTable) return;\n",
              "\n",
              "        const docLinkHtml = 'Like what you see? Visit the ' +\n",
              "          '<a target=\"_blank\" href=https://colab.research.google.com/notebooks/data_table.ipynb>data table notebook</a>'\n",
              "          + ' to learn more about interactive tables.';\n",
              "        element.innerHTML = '';\n",
              "        dataTable['output_type'] = 'display_data';\n",
              "        await google.colab.output.renderOutput(dataTable, element);\n",
              "        const docLink = document.createElement('div');\n",
              "        docLink.innerHTML = docLinkHtml;\n",
              "        element.appendChild(docLink);\n",
              "      }\n",
              "    </script>\n",
              "  </div>\n",
              "\n",
              "\n",
              "<div id=\"df-6fbed33c-a5fc-44ca-bd56-8a1d3ae88841\">\n",
              "  <button class=\"colab-df-quickchart\" onclick=\"quickchart('df-6fbed33c-a5fc-44ca-bd56-8a1d3ae88841')\"\n",
              "            title=\"Suggest charts.\"\n",
              "            style=\"display:none;\">\n",
              "\n",
              "<svg xmlns=\"http://www.w3.org/2000/svg\" height=\"24px\"viewBox=\"0 0 24 24\"\n",
              "     width=\"24px\">\n",
              "    <g>\n",
              "        <path d=\"M19 3H5c-1.1 0-2 .9-2 2v14c0 1.1.9 2 2 2h14c1.1 0 2-.9 2-2V5c0-1.1-.9-2-2-2zM9 17H7v-7h2v7zm4 0h-2V7h2v10zm4 0h-2v-4h2v4z\"/>\n",
              "    </g>\n",
              "</svg>\n",
              "  </button>\n",
              "\n",
              "<style>\n",
              "  .colab-df-quickchart {\n",
              "    background-color: #E8F0FE;\n",
              "    border: none;\n",
              "    border-radius: 50%;\n",
              "    cursor: pointer;\n",
              "    display: none;\n",
              "    fill: #1967D2;\n",
              "    height: 32px;\n",
              "    padding: 0 0 0 0;\n",
              "    width: 32px;\n",
              "  }\n",
              "\n",
              "  .colab-df-quickchart:hover {\n",
              "    background-color: #E2EBFA;\n",
              "    box-shadow: 0px 1px 2px rgba(60, 64, 67, 0.3), 0px 1px 3px 1px rgba(60, 64, 67, 0.15);\n",
              "    fill: #174EA6;\n",
              "  }\n",
              "\n",
              "  [theme=dark] .colab-df-quickchart {\n",
              "    background-color: #3B4455;\n",
              "    fill: #D2E3FC;\n",
              "  }\n",
              "\n",
              "  [theme=dark] .colab-df-quickchart:hover {\n",
              "    background-color: #434B5C;\n",
              "    box-shadow: 0px 1px 3px 1px rgba(0, 0, 0, 0.15);\n",
              "    filter: drop-shadow(0px 1px 2px rgba(0, 0, 0, 0.3));\n",
              "    fill: #FFFFFF;\n",
              "  }\n",
              "</style>\n",
              "\n",
              "  <script>\n",
              "    async function quickchart(key) {\n",
              "      const charts = await google.colab.kernel.invokeFunction(\n",
              "          'suggestCharts', [key], {});\n",
              "    }\n",
              "    (() => {\n",
              "      let quickchartButtonEl =\n",
              "        document.querySelector('#df-6fbed33c-a5fc-44ca-bd56-8a1d3ae88841 button');\n",
              "      quickchartButtonEl.style.display =\n",
              "        google.colab.kernel.accessAllowed ? 'block' : 'none';\n",
              "    })();\n",
              "  </script>\n",
              "</div>\n",
              "    </div>\n",
              "  </div>\n"
            ]
          },
          "metadata": {},
          "execution_count": 5
        }
      ],
      "source": [
        "# reading the csv file as a dataframe\n",
        "df = pd.read_csv('Ronash_DS_Assignment.csv')\n",
        "df.head(5)"
      ]
    },
    {
      "cell_type": "code",
      "execution_count": 7,
      "metadata": {
        "colab": {
          "base_uri": "https://localhost:8080/"
        },
        "id": "6E1ZDXyPlr6y",
        "outputId": "58dedaa3-9408-4e13-be0e-9beb7bca634e"
      },
      "outputs": [
        {
          "output_type": "execute_result",
          "data": {
            "text/plain": [
              "Apparel & Accessories        1000\n",
              "Animals & Pet Supplies        500\n",
              "Food, Beverages & Tobacco     400\n",
              "Sporting Goods                400\n",
              "Luggage & Bags                400\n",
              "Home & Garden                 400\n",
              "Health & Beauty               400\n",
              "Media                         300\n",
              "Toys & Games                  300\n",
              "Furniture                     200\n",
              "Baby & Toddler                200\n",
              "Arts & Entertainment          200\n",
              "Electronics                   100\n",
              "Business & Industrial         100\n",
              "Office Supplies               100\n",
              "Vehicles & Parts              100\n",
              "Hardware                       50\n",
              "Cameras & Optics               50\n",
              "Software                       50\n",
              "Religious & Ceremonial         20\n",
              "Name: category, dtype: int64"
            ]
          },
          "metadata": {},
          "execution_count": 7
        }
      ],
      "source": [
        "# counting the number of each label\n",
        "df['category'].value_counts()"
      ]
    },
    {
      "cell_type": "code",
      "execution_count": 8,
      "metadata": {
        "colab": {
          "base_uri": "https://localhost:8080/"
        },
        "id": "Un_ggKoLUAEf",
        "outputId": "54e6fae1-7308-4b8e-d7bd-3fdee17d4a6a"
      },
      "outputs": [
        {
          "output_type": "stream",
          "name": "stdout",
          "text": [
            "There are 0 duplicate title.\n",
            "There are 1256 duplicate vondor.\n",
            "There are 716 duplicate tags.\n"
          ]
        }
      ],
      "source": [
        "# counting how many indices are duplicated in each column\n",
        "print(f\"There are {sum(df['title'].duplicated())} duplicate title.\")\n",
        "print(f\"There are {sum(df['vendor'].duplicated())} duplicate vondor.\")\n",
        "print(f\"There are {sum(df['tags'].duplicated())} duplicate tags.\")"
      ]
    },
    {
      "cell_type": "code",
      "execution_count": 9,
      "metadata": {
        "id": "VD95efZwCRYT"
      },
      "outputs": [],
      "source": [
        "# counting the number of Nan samples\n",
        "df.isnull().values.sum()\n",
        "df = df.dropna()"
      ]
    },
    {
      "cell_type": "markdown",
      "metadata": {
        "id": "rhPJQuDEb8oN"
      },
      "source": [
        "There are just 3 Nan samples in the dataset so we can ignore them."
      ]
    },
    {
      "cell_type": "code",
      "execution_count": 10,
      "metadata": {
        "colab": {
          "base_uri": "https://localhost:8080/"
        },
        "id": "aH9UzP7-__P2",
        "outputId": "d94164dc-da26-4788-a9aa-a41e798f9444"
      },
      "outputs": [
        {
          "output_type": "stream",
          "name": "stdout",
          "text": [
            "fidele super premium adult large breed dog food fidele adult bangalore chennai chicken doberman dog dry foods fidele german shepherd golden retriever great dane highpriority imported labrador less than 1000 less than 2000 less than 500 mastiff orange pet nutrition \n",
            "foldable pet toys linen storage cap point \n",
            "bok dok diaper pets home brand pet arabia category pets home category small pets supplies type pet home type pet supplies \n",
            "tastybone toy chicken tastybone \n",
            "leather leash tab short dog leash mighty paw leash leash tab training \n"
          ]
        }
      ],
      "source": [
        "# the function for extracting and standardizing the sentences\n",
        "def text_extraction(dfi):\n",
        "  # in this function, we concatenate text feature parts of the data as a sentence\n",
        "  sentence = ' '.join([dfi['title'], str(dfi['vendor']), dfi['tags']])\n",
        "  # Remove punctuations\n",
        "  sentence = re.sub('[^a-zA-Z0-9$.]', ' ', sentence)\n",
        "  # Single character removal\n",
        "  sentence = re.sub(r\"\\s+[a-zA-Z]\\s+\", ' ', sentence)\n",
        "  # Removing multiple spaces\n",
        "  sentence = re.sub(r'\\s+', ' ', sentence)\n",
        "  # Changint to lowercase\n",
        "  sentence = sentence.lower()\n",
        "  return sentence\n",
        "\n",
        "# printing 10 sample sentences\n",
        "for i in range(5):\n",
        "  print(text_extraction(df.iloc[i]))"
      ]
    },
    {
      "cell_type": "code",
      "execution_count": 101,
      "metadata": {
        "id": "7x4WG7NC9Xz3"
      },
      "outputs": [],
      "source": [
        "warnings.filterwarnings(\"ignore\", category=FutureWarning)\n",
        "# creating the dataset\n",
        "dataset = pd.DataFrame(columns=['text', 'label'])\n",
        "for i in range(len(df)):\n",
        "  dataset = dataset.append({'text':text_extraction(df.iloc[i]), 'label':df.iloc[i]['category']}, ignore_index = True)\n",
        "\n",
        "# creating integer labels for multiclass training\n",
        "dataset['label_int'] = pd.Categorical(dataset['label']).codes\n",
        "\n"
      ]
    },
    {
      "cell_type": "code",
      "execution_count": 12,
      "metadata": {
        "colab": {
          "base_uri": "https://localhost:8080/"
        },
        "id": "9GTsmNRvS9Br",
        "outputId": "fdd402f5-06bc-406b-f347-afc738b78d5d"
      },
      "outputs": [
        {
          "output_type": "stream",
          "name": "stdout",
          "text": [
            "Label 0 corresponds to Animals & Pet Supplies\n",
            "Label 1 corresponds to Apparel & Accessories\n",
            "Label 2 corresponds to Arts & Entertainment\n",
            "Label 3 corresponds to Baby & Toddler\n",
            "Label 4 corresponds to Business & Industrial\n",
            "Label 5 corresponds to Cameras & Optics\n",
            "Label 6 corresponds to Electronics\n",
            "Label 7 corresponds to Food, Beverages & Tobacco\n",
            "Label 8 corresponds to Furniture\n",
            "Label 9 corresponds to Hardware\n",
            "Label 10 corresponds to Health & Beauty\n",
            "Label 11 corresponds to Home & Garden\n",
            "Label 12 corresponds to Luggage & Bags\n",
            "Label 13 corresponds to Media\n",
            "Label 14 corresponds to Office Supplies\n",
            "Label 15 corresponds to Religious & Ceremonial\n",
            "Label 16 corresponds to Software\n",
            "Label 17 corresponds to Sporting Goods\n",
            "Label 18 corresponds to Toys & Games\n",
            "Label 19 corresponds to Vehicles & Parts\n"
          ]
        }
      ],
      "source": [
        "# printing each integer label and its corresponding name label\n",
        "labels_names = list(Counter(dataset['label']).keys())\n",
        "\n",
        "for i, label in enumerate(labels_names):\n",
        "  print(\"Label\", i, \"corresponds to\", label)"
      ]
    },
    {
      "cell_type": "code",
      "execution_count": 13,
      "metadata": {
        "colab": {
          "base_uri": "https://localhost:8080/",
          "height": 423
        },
        "id": "QXCgd6QTC_k6",
        "outputId": "2f3803c8-909a-486b-c9d9-8113e3ca1bfe"
      },
      "outputs": [
        {
          "output_type": "execute_result",
          "data": {
            "text/plain": [
              "                                                   text  label_int\n",
              "0     fidele super premium adult large breed dog foo...          0\n",
              "1            foldable pet toys linen storage cap point           0\n",
              "2     bok dok diaper pets home brand pet arabia cate...          0\n",
              "3                      tastybone toy chicken tastybone           0\n",
              "4     leather leash tab short dog leash mighty paw l...          0\n",
              "...                                                 ...        ...\n",
              "5262  candylab moo milk van candylab 3 years candyla...         19\n",
              "5263  truck modern era vehicles red white scale ho w...         19\n",
              "5264  car sticker flags decal american flag sticker ...         19\n",
              "5265  lazer helmets bayamo pit bull full face open b...         19\n",
              "5266  deutz agrotron tractor siku $0 to $25 diecast ...         19\n",
              "\n",
              "[5267 rows x 2 columns]"
            ],
            "text/html": [
              "\n",
              "  <div id=\"df-0ab38cc0-f694-453c-91ad-e45ebf87700d\" class=\"colab-df-container\">\n",
              "    <div>\n",
              "<style scoped>\n",
              "    .dataframe tbody tr th:only-of-type {\n",
              "        vertical-align: middle;\n",
              "    }\n",
              "\n",
              "    .dataframe tbody tr th {\n",
              "        vertical-align: top;\n",
              "    }\n",
              "\n",
              "    .dataframe thead th {\n",
              "        text-align: right;\n",
              "    }\n",
              "</style>\n",
              "<table border=\"1\" class=\"dataframe\">\n",
              "  <thead>\n",
              "    <tr style=\"text-align: right;\">\n",
              "      <th></th>\n",
              "      <th>text</th>\n",
              "      <th>label_int</th>\n",
              "    </tr>\n",
              "  </thead>\n",
              "  <tbody>\n",
              "    <tr>\n",
              "      <th>0</th>\n",
              "      <td>fidele super premium adult large breed dog foo...</td>\n",
              "      <td>0</td>\n",
              "    </tr>\n",
              "    <tr>\n",
              "      <th>1</th>\n",
              "      <td>foldable pet toys linen storage cap point</td>\n",
              "      <td>0</td>\n",
              "    </tr>\n",
              "    <tr>\n",
              "      <th>2</th>\n",
              "      <td>bok dok diaper pets home brand pet arabia cate...</td>\n",
              "      <td>0</td>\n",
              "    </tr>\n",
              "    <tr>\n",
              "      <th>3</th>\n",
              "      <td>tastybone toy chicken tastybone</td>\n",
              "      <td>0</td>\n",
              "    </tr>\n",
              "    <tr>\n",
              "      <th>4</th>\n",
              "      <td>leather leash tab short dog leash mighty paw l...</td>\n",
              "      <td>0</td>\n",
              "    </tr>\n",
              "    <tr>\n",
              "      <th>...</th>\n",
              "      <td>...</td>\n",
              "      <td>...</td>\n",
              "    </tr>\n",
              "    <tr>\n",
              "      <th>5262</th>\n",
              "      <td>candylab moo milk van candylab 3 years candyla...</td>\n",
              "      <td>19</td>\n",
              "    </tr>\n",
              "    <tr>\n",
              "      <th>5263</th>\n",
              "      <td>truck modern era vehicles red white scale ho w...</td>\n",
              "      <td>19</td>\n",
              "    </tr>\n",
              "    <tr>\n",
              "      <th>5264</th>\n",
              "      <td>car sticker flags decal american flag sticker ...</td>\n",
              "      <td>19</td>\n",
              "    </tr>\n",
              "    <tr>\n",
              "      <th>5265</th>\n",
              "      <td>lazer helmets bayamo pit bull full face open b...</td>\n",
              "      <td>19</td>\n",
              "    </tr>\n",
              "    <tr>\n",
              "      <th>5266</th>\n",
              "      <td>deutz agrotron tractor siku $0 to $25 diecast ...</td>\n",
              "      <td>19</td>\n",
              "    </tr>\n",
              "  </tbody>\n",
              "</table>\n",
              "<p>5267 rows × 2 columns</p>\n",
              "</div>\n",
              "    <div class=\"colab-df-buttons\">\n",
              "\n",
              "  <div class=\"colab-df-container\">\n",
              "    <button class=\"colab-df-convert\" onclick=\"convertToInteractive('df-0ab38cc0-f694-453c-91ad-e45ebf87700d')\"\n",
              "            title=\"Convert this dataframe to an interactive table.\"\n",
              "            style=\"display:none;\">\n",
              "\n",
              "  <svg xmlns=\"http://www.w3.org/2000/svg\" height=\"24px\" viewBox=\"0 -960 960 960\">\n",
              "    <path d=\"M120-120v-720h720v720H120Zm60-500h600v-160H180v160Zm220 220h160v-160H400v160Zm0 220h160v-160H400v160ZM180-400h160v-160H180v160Zm440 0h160v-160H620v160ZM180-180h160v-160H180v160Zm440 0h160v-160H620v160Z\"/>\n",
              "  </svg>\n",
              "    </button>\n",
              "\n",
              "  <style>\n",
              "    .colab-df-container {\n",
              "      display:flex;\n",
              "      gap: 12px;\n",
              "    }\n",
              "\n",
              "    .colab-df-convert {\n",
              "      background-color: #E8F0FE;\n",
              "      border: none;\n",
              "      border-radius: 50%;\n",
              "      cursor: pointer;\n",
              "      display: none;\n",
              "      fill: #1967D2;\n",
              "      height: 32px;\n",
              "      padding: 0 0 0 0;\n",
              "      width: 32px;\n",
              "    }\n",
              "\n",
              "    .colab-df-convert:hover {\n",
              "      background-color: #E2EBFA;\n",
              "      box-shadow: 0px 1px 2px rgba(60, 64, 67, 0.3), 0px 1px 3px 1px rgba(60, 64, 67, 0.15);\n",
              "      fill: #174EA6;\n",
              "    }\n",
              "\n",
              "    .colab-df-buttons div {\n",
              "      margin-bottom: 4px;\n",
              "    }\n",
              "\n",
              "    [theme=dark] .colab-df-convert {\n",
              "      background-color: #3B4455;\n",
              "      fill: #D2E3FC;\n",
              "    }\n",
              "\n",
              "    [theme=dark] .colab-df-convert:hover {\n",
              "      background-color: #434B5C;\n",
              "      box-shadow: 0px 1px 3px 1px rgba(0, 0, 0, 0.15);\n",
              "      filter: drop-shadow(0px 1px 2px rgba(0, 0, 0, 0.3));\n",
              "      fill: #FFFFFF;\n",
              "    }\n",
              "  </style>\n",
              "\n",
              "    <script>\n",
              "      const buttonEl =\n",
              "        document.querySelector('#df-0ab38cc0-f694-453c-91ad-e45ebf87700d button.colab-df-convert');\n",
              "      buttonEl.style.display =\n",
              "        google.colab.kernel.accessAllowed ? 'block' : 'none';\n",
              "\n",
              "      async function convertToInteractive(key) {\n",
              "        const element = document.querySelector('#df-0ab38cc0-f694-453c-91ad-e45ebf87700d');\n",
              "        const dataTable =\n",
              "          await google.colab.kernel.invokeFunction('convertToInteractive',\n",
              "                                                    [key], {});\n",
              "        if (!dataTable) return;\n",
              "\n",
              "        const docLinkHtml = 'Like what you see? Visit the ' +\n",
              "          '<a target=\"_blank\" href=https://colab.research.google.com/notebooks/data_table.ipynb>data table notebook</a>'\n",
              "          + ' to learn more about interactive tables.';\n",
              "        element.innerHTML = '';\n",
              "        dataTable['output_type'] = 'display_data';\n",
              "        await google.colab.output.renderOutput(dataTable, element);\n",
              "        const docLink = document.createElement('div');\n",
              "        docLink.innerHTML = docLinkHtml;\n",
              "        element.appendChild(docLink);\n",
              "      }\n",
              "    </script>\n",
              "  </div>\n",
              "\n",
              "\n",
              "<div id=\"df-c03a9aba-93aa-44f3-94ee-e65f1b1e5299\">\n",
              "  <button class=\"colab-df-quickchart\" onclick=\"quickchart('df-c03a9aba-93aa-44f3-94ee-e65f1b1e5299')\"\n",
              "            title=\"Suggest charts.\"\n",
              "            style=\"display:none;\">\n",
              "\n",
              "<svg xmlns=\"http://www.w3.org/2000/svg\" height=\"24px\"viewBox=\"0 0 24 24\"\n",
              "     width=\"24px\">\n",
              "    <g>\n",
              "        <path d=\"M19 3H5c-1.1 0-2 .9-2 2v14c0 1.1.9 2 2 2h14c1.1 0 2-.9 2-2V5c0-1.1-.9-2-2-2zM9 17H7v-7h2v7zm4 0h-2V7h2v10zm4 0h-2v-4h2v4z\"/>\n",
              "    </g>\n",
              "</svg>\n",
              "  </button>\n",
              "\n",
              "<style>\n",
              "  .colab-df-quickchart {\n",
              "    background-color: #E8F0FE;\n",
              "    border: none;\n",
              "    border-radius: 50%;\n",
              "    cursor: pointer;\n",
              "    display: none;\n",
              "    fill: #1967D2;\n",
              "    height: 32px;\n",
              "    padding: 0 0 0 0;\n",
              "    width: 32px;\n",
              "  }\n",
              "\n",
              "  .colab-df-quickchart:hover {\n",
              "    background-color: #E2EBFA;\n",
              "    box-shadow: 0px 1px 2px rgba(60, 64, 67, 0.3), 0px 1px 3px 1px rgba(60, 64, 67, 0.15);\n",
              "    fill: #174EA6;\n",
              "  }\n",
              "\n",
              "  [theme=dark] .colab-df-quickchart {\n",
              "    background-color: #3B4455;\n",
              "    fill: #D2E3FC;\n",
              "  }\n",
              "\n",
              "  [theme=dark] .colab-df-quickchart:hover {\n",
              "    background-color: #434B5C;\n",
              "    box-shadow: 0px 1px 3px 1px rgba(0, 0, 0, 0.15);\n",
              "    filter: drop-shadow(0px 1px 2px rgba(0, 0, 0, 0.3));\n",
              "    fill: #FFFFFF;\n",
              "  }\n",
              "</style>\n",
              "\n",
              "  <script>\n",
              "    async function quickchart(key) {\n",
              "      const charts = await google.colab.kernel.invokeFunction(\n",
              "          'suggestCharts', [key], {});\n",
              "    }\n",
              "    (() => {\n",
              "      let quickchartButtonEl =\n",
              "        document.querySelector('#df-c03a9aba-93aa-44f3-94ee-e65f1b1e5299 button');\n",
              "      quickchartButtonEl.style.display =\n",
              "        google.colab.kernel.accessAllowed ? 'block' : 'none';\n",
              "    })();\n",
              "  </script>\n",
              "</div>\n",
              "    </div>\n",
              "  </div>\n"
            ]
          },
          "metadata": {},
          "execution_count": 13
        }
      ],
      "source": [
        "dataset = dataset.drop(['label'], axis=1)\n",
        "dataset"
      ]
    },
    {
      "cell_type": "code",
      "execution_count": 14,
      "metadata": {
        "colab": {
          "base_uri": "https://localhost:8080/"
        },
        "id": "bWd2Rfp69X8g",
        "outputId": "e4b74fa3-39f0-4050-a451-8561066fd683"
      },
      "outputs": [
        {
          "output_type": "stream",
          "name": "stdout",
          "text": [
            "Number of samples in training set: 4213\n",
            "Number of samples in validation set: 527\n",
            "Number of samples in test set: 527\n"
          ]
        }
      ],
      "source": [
        "# splitting dataset to train, validation, and test dataframes\n",
        "train_df, test_df= train_test_split(dataset, test_size=0.2, random_state=42)\n",
        "val_df = test_df.sample(frac=0.5)\n",
        "test_df.drop(val_df.index, inplace=True)\n",
        "\n",
        "print(f\"Number of samples in training set: {len(train_df)}\")\n",
        "print(f\"Number of samples in validation set: {len(val_df)}\")\n",
        "print(f\"Number of samples in test set: {len(test_df)}\")\n",
        "\n",
        "# extracting texts and labels from dataframes\n",
        "train_texts = train_df['text']\n",
        "train_labels = train_df['label_int']\n",
        "val_texts = val_df['text']\n",
        "val_labels = val_df['label_int']\n",
        "test_texts = test_df['text']\n",
        "test_labels = test_df['label_int']"
      ]
    },
    {
      "cell_type": "code",
      "execution_count": 15,
      "metadata": {
        "colab": {
          "base_uri": "https://localhost:8080/"
        },
        "id": "C4kA4X60zkC3",
        "outputId": "26863050-2738-41d1-cc75-49fbb0deaf36"
      },
      "outputs": [
        {
          "output_type": "stream",
          "name": "stdout",
          "text": [
            "Texts: [b'seachem multitest ammonia seachem '\n",
            " b'smart electric cat teasing toy pet clever cat toys cats rr track catproducts rr track cattoys '\n",
            " b'ocean hunter wood sculpture novica united inc assembly required 492 assembly requiredstr no assembly required class home accessories classid 581 color 5829 colorstr brown department decor departmentid 542 margin 60 material style 33 stylestr modern subclass home accessories subclassid 793 '\n",
            " b'impala rollerskates leopard impala cheetah impala leopard red roller skate rollerskate skate skates vegan '\n",
            " b'diy personalised dreamcatcher activity kit sea animal doxbox store '\n",
            " b'treasure by estetica remy human hair wig closeout estetica liquid show percent off show percent off '\n",
            " b'etching cl grenadine drapery upholstery fabric by kaufmann kaufmann hidden pk ikat khaki multi color print red shop fabric throw pillows trim wallpaper ikat shop fabric throw pillows trim wallpaper kaufmann shop fabric throw pillows trim wallpaper prints '\n",
            " b'bleed proof white opaque watercolor paint dr. ph martin brand drphmartin dr. ph martin flashsale0621 medium medium artjournaling paint priority tutorial fallpumpkin tutorial fancyfeather tutorial galaxywolf tutorial nebula type paint '\n",
            " b'party suede peep toe embellished chunky heel sandals meet yours fashion chunky heel sandals club sandals dress sandals fashion sandals heel sandals high heel sandals new arrivals open toe sandals party sandals peep toe sandals plus size sandals sandals suede sandals summer sandals '\n",
            " b'sea grass rolling tip empire glassworks rolling tip unfinished '\n",
            " b'interactive iq treat ball toy for dogs cats cj feeder waterer pet supplies '\n",
            " b'danek black nubuck stevemadden danek black nubuck danek black boots brand blondo category men shoes cf size 10 cf size 10 5 cf size 11 cf size 12 cf size 7 5 cf size 8 cf size 8 5 cf size 9 cf size 9 5 color black flat 0 1 inch full price in stock ready to ship low 1 2 inches men new price over $150 scm category boots men style lace up style leather style waterproof type boots waterproof '\n",
            " b'just female hilda pleated skirt oranges print just female hilda just female midi pleated sheer spo disabled '\n",
            " b'natural factors sambucus black elderberry natural factors 068958047072 cold flu treatment immune support new nf04707 '\n",
            " b'the triumph iii briefcase lotuff leather '\n",
            " b'p.l.a.y. zoomierex fantastug sea foam dog toy p.l.a.y. brand p.l.a.y. summer collection toy type fetch toy type floating toy type rubber toy type tug twr '\n",
            " b'luggage tag nantucket maya traditions accessories all accessories collection all wholesale collection bag charms bis hidden by recipient for galentines by recipient for the long distance friend filter artisan maya traditions filter color green filter country guatemala filter materials cotton finalsale cart flexify gift guide under $25 collection graduation gifts collection green guatemala last chance collection luggage tags maya traditions maya traditions collections travel travel accessories collection wholesale wholesale travel collection wipd2020 woven '\n",
            " b'wide openning diaper bag backpack maroon chronos baby bag baby bag for mommy baby bags baby bags for mom baby changing bag baby diaper bag backpack bag bags changing bag designer bag diaper bag diaper bag backpack fashion bag free shipping bags maternity bag mom bag mommy bag mummy bag nappy bag stroller bag travel bag travel bag organizer waterproof bag '\n",
            " b'knorr potato mushroom steinpilz soup knorr brands knorr categories soups countries germany cream german germany ingredients cream ingredients mushroom ingredients potatoes knorr pantry seasonings spices spice storage pantry '\n",
            " b'inkolo side table uniqwa category furniture category occasional tables category tables deposit latest item range african furniture range island resort range organic '\n",
            " b'jabberwocky jellybean games availability in stock category children google true inv product type board games '\n",
            " b'black agate ring large in charge power stone adjustable bronze dig crystals agate black bronze chakra root chakra color black color bronze intentions protection jewelry jewelry rings protection crystals ring size adjustable rings rings metal root chakra stone agate type jewelry '\n",
            " b'tabs tattoo artist barrier sheets hextat barrier covid hextat medical '\n",
            " b'dog pakiet dnp pc skin support pick me pets brand dolina noteci category pet supplies type dog food '\n",
            " b'organic lace ruffle bib various colors ovedbaby bib bibs sale '\n",
            " b'silver white clear rhinestones metal band one size all decd out one size band rhinestones silver '\n",
            " b'hanover lavallette umbrella in blue lavalletteumb hanover hanover outdoor furniture umbrellas '\n",
            " b'braided bone orange tall tails brand tall tails pet dogs price $20.00 $29.99 type interactive toys '\n",
            " b'brother bond cask strength bourbon whiskey brother bond tab1 about brothers bond brothers bond engraving fall flavors father day memorial day size 750ml whiskey youngs '\n",
            " b'imex phillips drive drywall zinc screws imex imex screws washers tools '\n",
            " b'playground patchwork backpack primecut '\n",
            " b'giant jenga block game all things for kids giant games in stock outdoor games spo disabled wooden toys ']\n",
            "labels: [ 0  0 11 17  0  1  2  9  1 11  0  1  1 10 12  0 12 12  7  8 18  1  4  0\n",
            "  3  1  8  0  7  9 12 18]\n"
          ]
        }
      ],
      "source": [
        "# creating data generators with batch size 32\n",
        "batch_size = 32\n",
        "raw_train_batch = tf.data.Dataset.from_tensor_slices((train_texts, train_labels)).batch(batch_size)\n",
        "raw_val_batch = tf.data.Dataset.from_tensor_slices((val_texts, val_labels)).batch(batch_size)\n",
        "raw_test_batch = tf.data.Dataset.from_tensor_slices((test_texts, test_labels)).batch(batch_size)\n",
        "\n",
        "# printing texts and labels of a batch of raw train\n",
        "for text, label in raw_train_batch.take(1):\n",
        "  print('Texts: {}'.format(text))\n",
        "  print('labels: {}'.format(label))"
      ]
    },
    {
      "cell_type": "code",
      "execution_count": 16,
      "metadata": {
        "colab": {
          "base_uri": "https://localhost:8080/"
        },
        "id": "P2QpUriFrsU_",
        "outputId": "2bcb11f5-c84b-4166-bbfe-23f608fb74f1"
      },
      "outputs": [
        {
          "output_type": "stream",
          "name": "stdout",
          "text": [
            "112524\n"
          ]
        }
      ],
      "source": [
        "# counting how many words are there in the whole texts of the dataset\n",
        "num_of_words = 0\n",
        "for i in dataset['text']: num_of_words += len(i.split())\n",
        "\n",
        "print(num_of_words)"
      ]
    },
    {
      "cell_type": "markdown",
      "metadata": {
        "id": "wfw3CqfZsWyT"
      },
      "source": [
        "There are about 112000 words in the texts.\n",
        "\n"
      ]
    },
    {
      "cell_type": "code",
      "execution_count": 17,
      "metadata": {
        "colab": {
          "base_uri": "https://localhost:8080/"
        },
        "id": "2ufQzaF9ncqZ",
        "outputId": "6f284f2e-c9f2-4ec2-afa9-ce8eb19f86b6"
      },
      "outputs": [
        {
          "output_type": "stream",
          "name": "stdout",
          "text": [
            "309\n",
            "18927\n"
          ]
        }
      ],
      "source": [
        "# counting max sequence length and how many non-repetitive words are there in the whole texts of the dataset\n",
        "l = []\n",
        "max_seq_lenght = 0\n",
        "for i in dataset['text']:\n",
        "  lenght = len(i.split())\n",
        "  if lenght > max_seq_lenght: max_seq_lenght = lenght\n",
        "  for j in i.split():\n",
        "    if j not in l: l.append(j)\n",
        "\n",
        "print(max_seq_lenght)\n",
        "print(len(l))"
      ]
    },
    {
      "cell_type": "markdown",
      "metadata": {
        "id": "cGGf8rQorkSR"
      },
      "source": [
        "Maximum sequence length is 309 and There are about 19000 non-repetitive words in the whole dataset texts. So we set max word features to 10000 and sequence length to 350."
      ]
    },
    {
      "cell_type": "code",
      "execution_count": 45,
      "metadata": {
        "id": "Ey2QJjO97T9P",
        "colab": {
          "base_uri": "https://localhost:8080/"
        },
        "outputId": "4300840b-1585-4166-eddc-d4a463a5aa8a"
      },
      "outputs": [
        {
          "output_type": "stream",
          "name": "stdout",
          "text": [
            "Review tf.Tensor(b'seachem multitest ammonia seachem ', shape=(), dtype=string)\n",
            "Label tf.Tensor(0, shape=(), dtype=int8)\n",
            "Vectorized text (<tf.Tensor: shape=(1, 320), dtype=int64, numpy=\n",
            "array([[ 2075,  6580, 15510,  2075,     0,     0,     0,     0,     0,\n",
            "            0,     0,     0,     0,     0,     0,     0,     0,     0,\n",
            "            0,     0,     0,     0,     0,     0,     0,     0,     0,\n",
            "            0,     0,     0,     0,     0,     0,     0,     0,     0,\n",
            "            0,     0,     0,     0,     0,     0,     0,     0,     0,\n",
            "            0,     0,     0,     0,     0,     0,     0,     0,     0,\n",
            "            0,     0,     0,     0,     0,     0,     0,     0,     0,\n",
            "            0,     0,     0,     0,     0,     0,     0,     0,     0,\n",
            "            0,     0,     0,     0,     0,     0,     0,     0,     0,\n",
            "            0,     0,     0,     0,     0,     0,     0,     0,     0,\n",
            "            0,     0,     0,     0,     0,     0,     0,     0,     0,\n",
            "            0,     0,     0,     0,     0,     0,     0,     0,     0,\n",
            "            0,     0,     0,     0,     0,     0,     0,     0,     0,\n",
            "            0,     0,     0,     0,     0,     0,     0,     0,     0,\n",
            "            0,     0,     0,     0,     0,     0,     0,     0,     0,\n",
            "            0,     0,     0,     0,     0,     0,     0,     0,     0,\n",
            "            0,     0,     0,     0,     0,     0,     0,     0,     0,\n",
            "            0,     0,     0,     0,     0,     0,     0,     0,     0,\n",
            "            0,     0,     0,     0,     0,     0,     0,     0,     0,\n",
            "            0,     0,     0,     0,     0,     0,     0,     0,     0,\n",
            "            0,     0,     0,     0,     0,     0,     0,     0,     0,\n",
            "            0,     0,     0,     0,     0,     0,     0,     0,     0,\n",
            "            0,     0,     0,     0,     0,     0,     0,     0,     0,\n",
            "            0,     0,     0,     0,     0,     0,     0,     0,     0,\n",
            "            0,     0,     0,     0,     0,     0,     0,     0,     0,\n",
            "            0,     0,     0,     0,     0,     0,     0,     0,     0,\n",
            "            0,     0,     0,     0,     0,     0,     0,     0,     0,\n",
            "            0,     0,     0,     0,     0,     0,     0,     0,     0,\n",
            "            0,     0,     0,     0,     0,     0,     0,     0,     0,\n",
            "            0,     0,     0,     0,     0,     0,     0,     0,     0,\n",
            "            0,     0,     0,     0,     0,     0,     0,     0,     0,\n",
            "            0,     0,     0,     0,     0,     0,     0,     0,     0,\n",
            "            0,     0,     0,     0,     0,     0,     0,     0,     0,\n",
            "            0,     0,     0,     0,     0,     0,     0,     0,     0,\n",
            "            0,     0,     0,     0,     0,     0,     0,     0,     0,\n",
            "            0,     0,     0,     0,     0]])>, <tf.Tensor: shape=(), dtype=int8, numpy=0>)\n"
          ]
        }
      ],
      "source": [
        "from sklearn.preprocessing import MinMaxScaler, StandardScaler\n",
        "# setting the text vectorization layer with 10000 words and 350 sequence length\n",
        "max_features = 18500\n",
        "sequence_length = 320\n",
        "\n",
        "vectorize_layer = layers.TextVectorization(\n",
        "    max_tokens=max_features,\n",
        "    output_mode='int',\n",
        "    output_sequence_length=sequence_length)\n",
        "\n",
        "# fitting the state of the preprocessing layer to the train set. This will cause the model to build an index of strings to integers.\n",
        "vectorize_layer.adapt(train_texts)\n",
        "\n",
        "# defining the vectorize text function\n",
        "def vectorize_text(text, label):\n",
        "  text = tf.expand_dims(text, -1)\n",
        "  return vectorize_layer(text), label\n",
        "\n",
        "# retrieving a sample from a batch of texts and labels from the train set\n",
        "text_batch, label_batch = next(iter(raw_train_batch))\n",
        "first_review, first_label = text_batch[0], label_batch[0]\n",
        "print(\"Review\", first_review)\n",
        "print(\"Label\", first_label)\n",
        "print(\"Vectorized text\", vectorize_text(first_review, first_label))"
      ]
    },
    {
      "cell_type": "code",
      "execution_count": 46,
      "metadata": {
        "id": "X84dkB768GSx",
        "colab": {
          "base_uri": "https://localhost:8080/"
        },
        "outputId": "9fd5367a-fa42-4162-934f-62b93b448e3c"
      },
      "outputs": [
        {
          "output_type": "stream",
          "name": "stdout",
          "text": [
            "1401 --->  moderate\n",
            " 313 --->  soft\n",
            "Vocabulary size: 16371\n"
          ]
        }
      ],
      "source": [
        "# getting corresponding word of each integer\n",
        "print(\"1401 ---> \",vectorize_layer.get_vocabulary()[1401])\n",
        "print(\" 313 ---> \",vectorize_layer.get_vocabulary()[313])\n",
        "print('Vocabulary size: {}'.format(len(vectorize_layer.get_vocabulary())))"
      ]
    },
    {
      "cell_type": "code",
      "execution_count": 47,
      "metadata": {
        "id": "DiW717GQ_77D",
        "colab": {
          "base_uri": "https://localhost:8080/"
        },
        "outputId": "0e547908-f6a9-4b60-a66f-0e67d333bd6b"
      },
      "outputs": [
        {
          "output_type": "stream",
          "name": "stdout",
          "text": [
            "<class 'tensorflow.python.data.ops.map_op._MapDataset'>\n"
          ]
        }
      ],
      "source": [
        "# creating train, val, and test vectorized dataset and prefetching them\n",
        "\n",
        "train_ds = raw_train_batch.map(vectorize_text)\n",
        "val_ds = raw_val_batch.map(vectorize_text)\n",
        "test_ds = raw_test_batch.map(vectorize_text)\n",
        "print(type(train_ds))\n",
        "AUTOTUNE = tf.data.AUTOTUNE\n",
        "\n",
        "train_ds = train_ds.cache().prefetch(buffer_size=AUTOTUNE)\n",
        "val_ds = val_ds.cache().prefetch(buffer_size=AUTOTUNE)\n",
        "test_ds = test_ds.cache().prefetch(buffer_size=AUTOTUNE)"
      ]
    },
    {
      "cell_type": "code",
      "execution_count": 65,
      "metadata": {
        "colab": {
          "base_uri": "https://localhost:8080/"
        },
        "id": "BBHmGG_SAWhp",
        "outputId": "2cdae52a-5de6-4fdd-c3a1-ca02e758d57f"
      },
      "outputs": [
        {
          "output_type": "stream",
          "name": "stdout",
          "text": [
            "Model: \"sequential_9\"\n",
            "_________________________________________________________________\n",
            " Layer (type)                Output Shape              Param #   \n",
            "=================================================================\n",
            " embedding_9 (Embedding)     (None, None, 32)          592032    \n",
            "                                                                 \n",
            " dropout_18 (Dropout)        (None, None, 32)          0         \n",
            "                                                                 \n",
            " global_average_pooling1d_9   (None, 32)               0         \n",
            " (GlobalAveragePooling1D)                                        \n",
            "                                                                 \n",
            " dropout_19 (Dropout)        (None, 32)                0         \n",
            "                                                                 \n",
            " dense_9 (Dense)             (None, 20)                660       \n",
            "                                                                 \n",
            "=================================================================\n",
            "Total params: 592,692\n",
            "Trainable params: 592,692\n",
            "Non-trainable params: 0\n",
            "_________________________________________________________________\n"
          ]
        }
      ],
      "source": [
        "# model configuration\n",
        "embedding_dim = 32\n",
        "num_of_labels = 20\n",
        "\n",
        "model = tf.keras.Sequential([\n",
        "  layers.Embedding(max_features + 1, embedding_dim),\n",
        "  layers.Dropout(0.3),\n",
        "  layers.GlobalAveragePooling1D(),\n",
        "  layers.Dropout(0.2),\n",
        "  layers.Dense(num_of_labels)])\n",
        "\n",
        "model.summary()"
      ]
    },
    {
      "cell_type": "code",
      "execution_count": null,
      "metadata": {
        "id": "Wms0laqxasbO"
      },
      "outputs": [],
      "source": [
        "tf.keras.utils.plot_model(model, rankdir=\"TD\", show_shapes=True)"
      ]
    },
    {
      "cell_type": "code",
      "execution_count": 66,
      "metadata": {
        "id": "uL6c-YGfAwLz"
      },
      "outputs": [],
      "source": [
        "# model compilation\n",
        "model.compile(optimizer='adam',\n",
        "              loss=tf.keras.losses.SparseCategoricalCrossentropy(from_logits=True),\n",
        "              metrics=['accuracy'])"
      ]
    },
    {
      "cell_type": "code",
      "execution_count": 67,
      "metadata": {
        "colab": {
          "base_uri": "https://localhost:8080/"
        },
        "id": "CIfmPA3SvX4d",
        "outputId": "377ecab7-a5fb-49b9-8148-3030d3e01295"
      },
      "outputs": [
        {
          "output_type": "stream",
          "name": "stdout",
          "text": [
            "Epoch 1/200\n",
            "132/132 [==============================] - 2s 9ms/step - loss: 2.8802 - accuracy: 0.1816 - val_loss: 2.7445 - val_accuracy: 0.1879\n",
            "Epoch 2/200\n",
            "132/132 [==============================] - 1s 8ms/step - loss: 2.7092 - accuracy: 0.1878 - val_loss: 2.6629 - val_accuracy: 0.1879\n",
            "Epoch 3/200\n",
            "132/132 [==============================] - 1s 8ms/step - loss: 2.6823 - accuracy: 0.1878 - val_loss: 2.6499 - val_accuracy: 0.1879\n",
            "Epoch 4/200\n",
            "132/132 [==============================] - 1s 8ms/step - loss: 2.6736 - accuracy: 0.1878 - val_loss: 2.6431 - val_accuracy: 0.1879\n",
            "Epoch 5/200\n",
            "132/132 [==============================] - 2s 12ms/step - loss: 2.6650 - accuracy: 0.1878 - val_loss: 2.6369 - val_accuracy: 0.1879\n",
            "Epoch 6/200\n",
            "132/132 [==============================] - 1s 8ms/step - loss: 2.6572 - accuracy: 0.1878 - val_loss: 2.6313 - val_accuracy: 0.1879\n",
            "Epoch 7/200\n",
            "132/132 [==============================] - 1s 9ms/step - loss: 2.6526 - accuracy: 0.1880 - val_loss: 2.6250 - val_accuracy: 0.1879\n",
            "Epoch 8/200\n",
            "132/132 [==============================] - 1s 8ms/step - loss: 2.6448 - accuracy: 0.1880 - val_loss: 2.6177 - val_accuracy: 0.1879\n",
            "Epoch 9/200\n",
            "132/132 [==============================] - 1s 8ms/step - loss: 2.6352 - accuracy: 0.1882 - val_loss: 2.6100 - val_accuracy: 0.1879\n",
            "Epoch 10/200\n",
            "132/132 [==============================] - 1s 8ms/step - loss: 2.6261 - accuracy: 0.1882 - val_loss: 2.6015 - val_accuracy: 0.1898\n",
            "Epoch 11/200\n",
            "132/132 [==============================] - 1s 8ms/step - loss: 2.6140 - accuracy: 0.1897 - val_loss: 2.5918 - val_accuracy: 0.1917\n",
            "Epoch 12/200\n",
            "132/132 [==============================] - 1s 8ms/step - loss: 2.5992 - accuracy: 0.1901 - val_loss: 2.5812 - val_accuracy: 0.1917\n",
            "Epoch 13/200\n",
            "132/132 [==============================] - 1s 9ms/step - loss: 2.5878 - accuracy: 0.1930 - val_loss: 2.5692 - val_accuracy: 0.1935\n",
            "Epoch 14/200\n",
            "132/132 [==============================] - 2s 12ms/step - loss: 2.5708 - accuracy: 0.1956 - val_loss: 2.5552 - val_accuracy: 0.1935\n",
            "Epoch 15/200\n",
            "132/132 [==============================] - 1s 8ms/step - loss: 2.5565 - accuracy: 0.2006 - val_loss: 2.5401 - val_accuracy: 0.2011\n",
            "Epoch 16/200\n",
            "132/132 [==============================] - 1s 8ms/step - loss: 2.5344 - accuracy: 0.2060 - val_loss: 2.5231 - val_accuracy: 0.2106\n",
            "Epoch 17/200\n",
            "132/132 [==============================] - 1s 8ms/step - loss: 2.5162 - accuracy: 0.2117 - val_loss: 2.5050 - val_accuracy: 0.2125\n",
            "Epoch 18/200\n",
            "132/132 [==============================] - 1s 8ms/step - loss: 2.4902 - accuracy: 0.2215 - val_loss: 2.4846 - val_accuracy: 0.2201\n",
            "Epoch 19/200\n",
            "132/132 [==============================] - 1s 8ms/step - loss: 2.4687 - accuracy: 0.2298 - val_loss: 2.4634 - val_accuracy: 0.2239\n",
            "Epoch 20/200\n",
            "132/132 [==============================] - 1s 8ms/step - loss: 2.4440 - accuracy: 0.2397 - val_loss: 2.4402 - val_accuracy: 0.2391\n",
            "Epoch 21/200\n",
            "132/132 [==============================] - 1s 8ms/step - loss: 2.4102 - accuracy: 0.2485 - val_loss: 2.4155 - val_accuracy: 0.2543\n",
            "Epoch 22/200\n",
            "132/132 [==============================] - 1s 8ms/step - loss: 2.3839 - accuracy: 0.2547 - val_loss: 2.3891 - val_accuracy: 0.2619\n",
            "Epoch 23/200\n",
            "132/132 [==============================] - 1s 11ms/step - loss: 2.3512 - accuracy: 0.2673 - val_loss: 2.3609 - val_accuracy: 0.2713\n",
            "Epoch 24/200\n",
            "132/132 [==============================] - 1s 10ms/step - loss: 2.3179 - accuracy: 0.2827 - val_loss: 2.3315 - val_accuracy: 0.2789\n",
            "Epoch 25/200\n",
            "132/132 [==============================] - 1s 8ms/step - loss: 2.2829 - accuracy: 0.2953 - val_loss: 2.3017 - val_accuracy: 0.2884\n",
            "Epoch 26/200\n",
            "132/132 [==============================] - 1s 8ms/step - loss: 2.2447 - accuracy: 0.3079 - val_loss: 2.2709 - val_accuracy: 0.3074\n",
            "Epoch 27/200\n",
            "132/132 [==============================] - 1s 8ms/step - loss: 2.2083 - accuracy: 0.3280 - val_loss: 2.2388 - val_accuracy: 0.3283\n",
            "Epoch 28/200\n",
            "132/132 [==============================] - 1s 8ms/step - loss: 2.1694 - accuracy: 0.3546 - val_loss: 2.2068 - val_accuracy: 0.3359\n",
            "Epoch 29/200\n",
            "132/132 [==============================] - 1s 8ms/step - loss: 2.1288 - accuracy: 0.3776 - val_loss: 2.1726 - val_accuracy: 0.3491\n",
            "Epoch 30/200\n",
            "132/132 [==============================] - 1s 8ms/step - loss: 2.0877 - accuracy: 0.3973 - val_loss: 2.1374 - val_accuracy: 0.3852\n",
            "Epoch 31/200\n",
            "132/132 [==============================] - 1s 8ms/step - loss: 2.0439 - accuracy: 0.4289 - val_loss: 2.1040 - val_accuracy: 0.3985\n",
            "Epoch 32/200\n",
            "132/132 [==============================] - 2s 12ms/step - loss: 1.9979 - accuracy: 0.4633 - val_loss: 2.0689 - val_accuracy: 0.4137\n",
            "Epoch 33/200\n",
            "132/132 [==============================] - 1s 8ms/step - loss: 1.9598 - accuracy: 0.4788 - val_loss: 2.0339 - val_accuracy: 0.4345\n",
            "Epoch 34/200\n",
            "132/132 [==============================] - 1s 8ms/step - loss: 1.9141 - accuracy: 0.5072 - val_loss: 2.0004 - val_accuracy: 0.4611\n",
            "Epoch 35/200\n",
            "132/132 [==============================] - 1s 8ms/step - loss: 1.8800 - accuracy: 0.5381 - val_loss: 1.9659 - val_accuracy: 0.4801\n",
            "Epoch 36/200\n",
            "132/132 [==============================] - 1s 8ms/step - loss: 1.8265 - accuracy: 0.5675 - val_loss: 1.9299 - val_accuracy: 0.4934\n",
            "Epoch 37/200\n",
            "132/132 [==============================] - 1s 8ms/step - loss: 1.7906 - accuracy: 0.5818 - val_loss: 1.8954 - val_accuracy: 0.5028\n",
            "Epoch 38/200\n",
            "132/132 [==============================] - 1s 8ms/step - loss: 1.7489 - accuracy: 0.6114 - val_loss: 1.8612 - val_accuracy: 0.5332\n",
            "Epoch 39/200\n",
            "132/132 [==============================] - 1s 8ms/step - loss: 1.6988 - accuracy: 0.6311 - val_loss: 1.8280 - val_accuracy: 0.5541\n",
            "Epoch 40/200\n",
            "132/132 [==============================] - 1s 8ms/step - loss: 1.6628 - accuracy: 0.6478 - val_loss: 1.7942 - val_accuracy: 0.5787\n",
            "Epoch 41/200\n",
            "132/132 [==============================] - 2s 12ms/step - loss: 1.6172 - accuracy: 0.6696 - val_loss: 1.7607 - val_accuracy: 0.5844\n",
            "Epoch 42/200\n",
            "132/132 [==============================] - 1s 8ms/step - loss: 1.5755 - accuracy: 0.6826 - val_loss: 1.7280 - val_accuracy: 0.6072\n",
            "Epoch 43/200\n",
            "132/132 [==============================] - 1s 8ms/step - loss: 1.5302 - accuracy: 0.6997 - val_loss: 1.6968 - val_accuracy: 0.6072\n",
            "Epoch 44/200\n",
            "132/132 [==============================] - 1s 8ms/step - loss: 1.4947 - accuracy: 0.7185 - val_loss: 1.6666 - val_accuracy: 0.6186\n",
            "Epoch 45/200\n",
            "132/132 [==============================] - 1s 8ms/step - loss: 1.4553 - accuracy: 0.7304 - val_loss: 1.6366 - val_accuracy: 0.6414\n",
            "Epoch 46/200\n",
            "132/132 [==============================] - 1s 8ms/step - loss: 1.4128 - accuracy: 0.7446 - val_loss: 1.6062 - val_accuracy: 0.6584\n",
            "Epoch 47/200\n",
            "132/132 [==============================] - 1s 8ms/step - loss: 1.3772 - accuracy: 0.7558 - val_loss: 1.5770 - val_accuracy: 0.6565\n",
            "Epoch 48/200\n",
            "132/132 [==============================] - 1s 8ms/step - loss: 1.3440 - accuracy: 0.7605 - val_loss: 1.5478 - val_accuracy: 0.6717\n",
            "Epoch 49/200\n",
            "132/132 [==============================] - 1s 8ms/step - loss: 1.3073 - accuracy: 0.7752 - val_loss: 1.5189 - val_accuracy: 0.6831\n",
            "Epoch 50/200\n",
            "132/132 [==============================] - 1s 10ms/step - loss: 1.2684 - accuracy: 0.7823 - val_loss: 1.4901 - val_accuracy: 0.7078\n",
            "Epoch 51/200\n",
            "132/132 [==============================] - 2s 11ms/step - loss: 1.2388 - accuracy: 0.7921 - val_loss: 1.4663 - val_accuracy: 0.7078\n",
            "Epoch 52/200\n",
            "132/132 [==============================] - 1s 8ms/step - loss: 1.2042 - accuracy: 0.7990 - val_loss: 1.4402 - val_accuracy: 0.7154\n",
            "Epoch 53/200\n",
            "132/132 [==============================] - 1s 8ms/step - loss: 1.1696 - accuracy: 0.8080 - val_loss: 1.4159 - val_accuracy: 0.7154\n",
            "Epoch 54/200\n",
            "132/132 [==============================] - 1s 8ms/step - loss: 1.1385 - accuracy: 0.8073 - val_loss: 1.3925 - val_accuracy: 0.7230\n",
            "Epoch 55/200\n",
            "132/132 [==============================] - 1s 8ms/step - loss: 1.1061 - accuracy: 0.8187 - val_loss: 1.3687 - val_accuracy: 0.7343\n",
            "Epoch 56/200\n",
            "132/132 [==============================] - 1s 9ms/step - loss: 1.0823 - accuracy: 0.8236 - val_loss: 1.3458 - val_accuracy: 0.7306\n",
            "Epoch 57/200\n",
            "132/132 [==============================] - 1s 8ms/step - loss: 1.0488 - accuracy: 0.8334 - val_loss: 1.3263 - val_accuracy: 0.7324\n",
            "Epoch 58/200\n",
            "132/132 [==============================] - 1s 8ms/step - loss: 1.0210 - accuracy: 0.8376 - val_loss: 1.3038 - val_accuracy: 0.7362\n",
            "Epoch 59/200\n",
            "132/132 [==============================] - 1s 8ms/step - loss: 0.9964 - accuracy: 0.8388 - val_loss: 1.2835 - val_accuracy: 0.7381\n",
            "Epoch 60/200\n",
            "132/132 [==============================] - 2s 12ms/step - loss: 0.9682 - accuracy: 0.8467 - val_loss: 1.2637 - val_accuracy: 0.7476\n",
            "Epoch 61/200\n",
            "132/132 [==============================] - 1s 9ms/step - loss: 0.9452 - accuracy: 0.8502 - val_loss: 1.2438 - val_accuracy: 0.7438\n",
            "Epoch 62/200\n",
            "132/132 [==============================] - 1s 8ms/step - loss: 0.9207 - accuracy: 0.8557 - val_loss: 1.2247 - val_accuracy: 0.7514\n",
            "Epoch 63/200\n",
            "132/132 [==============================] - 1s 8ms/step - loss: 0.8932 - accuracy: 0.8609 - val_loss: 1.2067 - val_accuracy: 0.7514\n",
            "Epoch 64/200\n",
            "132/132 [==============================] - 1s 8ms/step - loss: 0.8710 - accuracy: 0.8642 - val_loss: 1.1896 - val_accuracy: 0.7666\n",
            "Epoch 65/200\n",
            "132/132 [==============================] - 1s 8ms/step - loss: 0.8452 - accuracy: 0.8685 - val_loss: 1.1729 - val_accuracy: 0.7685\n",
            "Epoch 66/200\n",
            "132/132 [==============================] - 1s 8ms/step - loss: 0.8241 - accuracy: 0.8737 - val_loss: 1.1583 - val_accuracy: 0.7723\n",
            "Epoch 67/200\n",
            "132/132 [==============================] - 1s 8ms/step - loss: 0.8037 - accuracy: 0.8770 - val_loss: 1.1422 - val_accuracy: 0.7723\n",
            "Epoch 68/200\n",
            "132/132 [==============================] - 1s 8ms/step - loss: 0.7835 - accuracy: 0.8770 - val_loss: 1.1276 - val_accuracy: 0.7761\n",
            "Epoch 69/200\n",
            "132/132 [==============================] - 1s 8ms/step - loss: 0.7643 - accuracy: 0.8839 - val_loss: 1.1136 - val_accuracy: 0.7818\n",
            "Epoch 70/200\n",
            "132/132 [==============================] - 2s 13ms/step - loss: 0.7478 - accuracy: 0.8877 - val_loss: 1.0984 - val_accuracy: 0.7818\n",
            "Epoch 71/200\n",
            "132/132 [==============================] - 1s 8ms/step - loss: 0.7263 - accuracy: 0.8868 - val_loss: 1.0855 - val_accuracy: 0.7837\n",
            "Epoch 72/200\n",
            "132/132 [==============================] - 1s 8ms/step - loss: 0.7068 - accuracy: 0.8913 - val_loss: 1.0731 - val_accuracy: 0.7875\n",
            "Epoch 73/200\n",
            "132/132 [==============================] - 1s 8ms/step - loss: 0.6887 - accuracy: 0.8958 - val_loss: 1.0593 - val_accuracy: 0.7875\n",
            "Epoch 74/200\n",
            "132/132 [==============================] - 1s 8ms/step - loss: 0.6714 - accuracy: 0.9013 - val_loss: 1.0480 - val_accuracy: 0.7894\n",
            "Epoch 75/200\n",
            "132/132 [==============================] - 1s 8ms/step - loss: 0.6546 - accuracy: 0.9036 - val_loss: 1.0343 - val_accuracy: 0.7894\n",
            "Epoch 76/200\n",
            "132/132 [==============================] - 1s 8ms/step - loss: 0.6381 - accuracy: 0.9036 - val_loss: 1.0253 - val_accuracy: 0.7913\n",
            "Epoch 77/200\n",
            "132/132 [==============================] - 1s 8ms/step - loss: 0.6231 - accuracy: 0.9112 - val_loss: 1.0127 - val_accuracy: 0.7951\n",
            "Epoch 78/200\n",
            "132/132 [==============================] - 1s 8ms/step - loss: 0.6080 - accuracy: 0.9146 - val_loss: 1.0024 - val_accuracy: 0.8008\n",
            "Epoch 79/200\n",
            "132/132 [==============================] - 1s 8ms/step - loss: 0.5924 - accuracy: 0.9167 - val_loss: 0.9923 - val_accuracy: 0.8027\n",
            "Epoch 80/200\n",
            "132/132 [==============================] - 2s 12ms/step - loss: 0.5787 - accuracy: 0.9186 - val_loss: 0.9824 - val_accuracy: 0.8027\n",
            "Epoch 81/200\n",
            "132/132 [==============================] - 1s 8ms/step - loss: 0.5649 - accuracy: 0.9229 - val_loss: 0.9748 - val_accuracy: 0.8027\n",
            "Epoch 82/200\n",
            "132/132 [==============================] - 1s 8ms/step - loss: 0.5533 - accuracy: 0.9198 - val_loss: 0.9636 - val_accuracy: 0.8046\n",
            "Epoch 83/200\n",
            "132/132 [==============================] - 1s 8ms/step - loss: 0.5398 - accuracy: 0.9231 - val_loss: 0.9545 - val_accuracy: 0.8083\n",
            "Epoch 84/200\n",
            "132/132 [==============================] - 1s 8ms/step - loss: 0.5252 - accuracy: 0.9309 - val_loss: 0.9465 - val_accuracy: 0.8121\n",
            "Epoch 85/200\n",
            "132/132 [==============================] - 1s 8ms/step - loss: 0.5091 - accuracy: 0.9290 - val_loss: 0.9388 - val_accuracy: 0.8121\n",
            "Epoch 86/200\n",
            "132/132 [==============================] - 1s 8ms/step - loss: 0.4982 - accuracy: 0.9316 - val_loss: 0.9307 - val_accuracy: 0.8140\n",
            "Epoch 87/200\n",
            "132/132 [==============================] - 1s 8ms/step - loss: 0.4863 - accuracy: 0.9352 - val_loss: 0.9223 - val_accuracy: 0.8178\n",
            "Epoch 88/200\n",
            "132/132 [==============================] - 1s 8ms/step - loss: 0.4766 - accuracy: 0.9359 - val_loss: 0.9155 - val_accuracy: 0.8197\n",
            "Epoch 89/200\n",
            "132/132 [==============================] - 1s 10ms/step - loss: 0.4641 - accuracy: 0.9390 - val_loss: 0.9067 - val_accuracy: 0.8235\n",
            "Epoch 90/200\n",
            "132/132 [==============================] - 1s 8ms/step - loss: 0.4502 - accuracy: 0.9402 - val_loss: 0.8997 - val_accuracy: 0.8254\n",
            "Epoch 91/200\n",
            "132/132 [==============================] - 1s 8ms/step - loss: 0.4437 - accuracy: 0.9423 - val_loss: 0.8944 - val_accuracy: 0.8197\n",
            "Epoch 92/200\n",
            "132/132 [==============================] - 1s 8ms/step - loss: 0.4333 - accuracy: 0.9440 - val_loss: 0.8861 - val_accuracy: 0.8273\n",
            "Epoch 93/200\n",
            "132/132 [==============================] - 1s 8ms/step - loss: 0.4220 - accuracy: 0.9430 - val_loss: 0.8823 - val_accuracy: 0.8235\n",
            "Epoch 94/200\n",
            "132/132 [==============================] - 1s 9ms/step - loss: 0.4099 - accuracy: 0.9471 - val_loss: 0.8744 - val_accuracy: 0.8235\n",
            "Epoch 95/200\n",
            "132/132 [==============================] - 1s 8ms/step - loss: 0.4022 - accuracy: 0.9454 - val_loss: 0.8691 - val_accuracy: 0.8292\n",
            "Epoch 96/200\n",
            "132/132 [==============================] - 1s 8ms/step - loss: 0.3915 - accuracy: 0.9478 - val_loss: 0.8615 - val_accuracy: 0.8254\n",
            "Epoch 97/200\n",
            "132/132 [==============================] - 1s 8ms/step - loss: 0.3845 - accuracy: 0.9478 - val_loss: 0.8569 - val_accuracy: 0.8273\n",
            "Epoch 98/200\n",
            "132/132 [==============================] - 1s 11ms/step - loss: 0.3757 - accuracy: 0.9504 - val_loss: 0.8522 - val_accuracy: 0.8311\n",
            "Epoch 99/200\n",
            "132/132 [==============================] - 1s 8ms/step - loss: 0.3683 - accuracy: 0.9521 - val_loss: 0.8470 - val_accuracy: 0.8387\n",
            "Epoch 100/200\n",
            "132/132 [==============================] - 1s 8ms/step - loss: 0.3578 - accuracy: 0.9525 - val_loss: 0.8423 - val_accuracy: 0.8330\n",
            "Epoch 101/200\n",
            "132/132 [==============================] - 1s 8ms/step - loss: 0.3512 - accuracy: 0.9530 - val_loss: 0.8367 - val_accuracy: 0.8368\n",
            "Epoch 102/200\n",
            "132/132 [==============================] - 1s 8ms/step - loss: 0.3463 - accuracy: 0.9542 - val_loss: 0.8323 - val_accuracy: 0.8463\n",
            "Epoch 103/200\n",
            "132/132 [==============================] - 1s 8ms/step - loss: 0.3341 - accuracy: 0.9554 - val_loss: 0.8270 - val_accuracy: 0.8444\n",
            "Epoch 104/200\n",
            "132/132 [==============================] - 1s 8ms/step - loss: 0.3286 - accuracy: 0.9594 - val_loss: 0.8252 - val_accuracy: 0.8425\n",
            "Epoch 105/200\n",
            "132/132 [==============================] - 1s 8ms/step - loss: 0.3188 - accuracy: 0.9601 - val_loss: 0.8193 - val_accuracy: 0.8444\n",
            "Epoch 106/200\n",
            "132/132 [==============================] - 1s 8ms/step - loss: 0.3104 - accuracy: 0.9599 - val_loss: 0.8153 - val_accuracy: 0.8463\n",
            "Epoch 107/200\n",
            "132/132 [==============================] - 2s 12ms/step - loss: 0.3052 - accuracy: 0.9606 - val_loss: 0.8113 - val_accuracy: 0.8425\n",
            "Epoch 108/200\n",
            "132/132 [==============================] - 1s 9ms/step - loss: 0.2962 - accuracy: 0.9627 - val_loss: 0.8073 - val_accuracy: 0.8444\n",
            "Epoch 109/200\n",
            "132/132 [==============================] - 1s 8ms/step - loss: 0.2921 - accuracy: 0.9620 - val_loss: 0.8046 - val_accuracy: 0.8425\n",
            "Epoch 110/200\n",
            "132/132 [==============================] - 1s 8ms/step - loss: 0.2859 - accuracy: 0.9639 - val_loss: 0.7997 - val_accuracy: 0.8482\n",
            "Epoch 111/200\n",
            "132/132 [==============================] - 1s 8ms/step - loss: 0.2770 - accuracy: 0.9646 - val_loss: 0.7953 - val_accuracy: 0.8463\n",
            "Epoch 112/200\n",
            "132/132 [==============================] - 1s 8ms/step - loss: 0.2768 - accuracy: 0.9632 - val_loss: 0.7901 - val_accuracy: 0.8444\n",
            "Epoch 113/200\n",
            "132/132 [==============================] - 1s 8ms/step - loss: 0.2704 - accuracy: 0.9653 - val_loss: 0.7893 - val_accuracy: 0.8482\n",
            "Epoch 114/200\n",
            "132/132 [==============================] - 1s 8ms/step - loss: 0.2581 - accuracy: 0.9665 - val_loss: 0.7859 - val_accuracy: 0.8444\n",
            "Epoch 115/200\n",
            "132/132 [==============================] - 1s 8ms/step - loss: 0.2551 - accuracy: 0.9675 - val_loss: 0.7830 - val_accuracy: 0.8482\n",
            "Epoch 116/200\n",
            "132/132 [==============================] - 1s 8ms/step - loss: 0.2492 - accuracy: 0.9677 - val_loss: 0.7802 - val_accuracy: 0.8463\n",
            "Epoch 117/200\n",
            "132/132 [==============================] - 2s 12ms/step - loss: 0.2467 - accuracy: 0.9696 - val_loss: 0.7767 - val_accuracy: 0.8482\n",
            "Epoch 118/200\n",
            "132/132 [==============================] - 1s 8ms/step - loss: 0.2390 - accuracy: 0.9706 - val_loss: 0.7730 - val_accuracy: 0.8482\n",
            "Epoch 119/200\n",
            "132/132 [==============================] - 1s 8ms/step - loss: 0.2343 - accuracy: 0.9732 - val_loss: 0.7705 - val_accuracy: 0.8482\n",
            "Epoch 120/200\n",
            "132/132 [==============================] - 1s 8ms/step - loss: 0.2282 - accuracy: 0.9746 - val_loss: 0.7678 - val_accuracy: 0.8501\n",
            "Epoch 121/200\n",
            "132/132 [==============================] - 1s 8ms/step - loss: 0.2200 - accuracy: 0.9760 - val_loss: 0.7660 - val_accuracy: 0.8482\n",
            "Epoch 122/200\n",
            "132/132 [==============================] - 1s 8ms/step - loss: 0.2166 - accuracy: 0.9748 - val_loss: 0.7638 - val_accuracy: 0.8501\n",
            "Epoch 123/200\n",
            "132/132 [==============================] - 1s 9ms/step - loss: 0.2119 - accuracy: 0.9770 - val_loss: 0.7605 - val_accuracy: 0.8520\n",
            "Epoch 124/200\n",
            "132/132 [==============================] - 1s 8ms/step - loss: 0.2061 - accuracy: 0.9782 - val_loss: 0.7610 - val_accuracy: 0.8444\n",
            "Epoch 125/200\n",
            "132/132 [==============================] - 1s 9ms/step - loss: 0.2024 - accuracy: 0.9772 - val_loss: 0.7567 - val_accuracy: 0.8482\n",
            "Epoch 126/200\n",
            "132/132 [==============================] - 2s 12ms/step - loss: 0.1981 - accuracy: 0.9786 - val_loss: 0.7552 - val_accuracy: 0.8501\n",
            "Epoch 127/200\n",
            "132/132 [==============================] - 1s 8ms/step - loss: 0.1934 - accuracy: 0.9798 - val_loss: 0.7532 - val_accuracy: 0.8463\n",
            "Epoch 128/200\n",
            "132/132 [==============================] - 1s 9ms/step - loss: 0.1911 - accuracy: 0.9791 - val_loss: 0.7500 - val_accuracy: 0.8558\n",
            "Epoch 129/200\n",
            "132/132 [==============================] - 1s 9ms/step - loss: 0.1857 - accuracy: 0.9810 - val_loss: 0.7478 - val_accuracy: 0.8501\n",
            "Epoch 130/200\n",
            "132/132 [==============================] - 1s 9ms/step - loss: 0.1808 - accuracy: 0.9829 - val_loss: 0.7454 - val_accuracy: 0.8520\n",
            "Epoch 131/200\n",
            "132/132 [==============================] - 1s 9ms/step - loss: 0.1771 - accuracy: 0.9820 - val_loss: 0.7459 - val_accuracy: 0.8539\n",
            "Epoch 132/200\n",
            "132/132 [==============================] - 1s 9ms/step - loss: 0.1726 - accuracy: 0.9822 - val_loss: 0.7443 - val_accuracy: 0.8520\n",
            "Epoch 133/200\n",
            "132/132 [==============================] - 1s 8ms/step - loss: 0.1694 - accuracy: 0.9820 - val_loss: 0.7406 - val_accuracy: 0.8577\n",
            "Epoch 134/200\n",
            "132/132 [==============================] - 2s 12ms/step - loss: 0.1635 - accuracy: 0.9843 - val_loss: 0.7404 - val_accuracy: 0.8482\n",
            "Epoch 135/200\n",
            "132/132 [==============================] - 1s 10ms/step - loss: 0.1633 - accuracy: 0.9827 - val_loss: 0.7380 - val_accuracy: 0.8539\n",
            "Epoch 136/200\n",
            "132/132 [==============================] - 1s 9ms/step - loss: 0.1591 - accuracy: 0.9865 - val_loss: 0.7382 - val_accuracy: 0.8501\n",
            "Epoch 137/200\n",
            "132/132 [==============================] - 1s 8ms/step - loss: 0.1531 - accuracy: 0.9855 - val_loss: 0.7360 - val_accuracy: 0.8501\n",
            "Epoch 138/200\n",
            "132/132 [==============================] - 1s 9ms/step - loss: 0.1516 - accuracy: 0.9855 - val_loss: 0.7351 - val_accuracy: 0.8501\n",
            "Epoch 139/200\n",
            "132/132 [==============================] - 1s 8ms/step - loss: 0.1471 - accuracy: 0.9877 - val_loss: 0.7312 - val_accuracy: 0.8520\n",
            "Epoch 140/200\n",
            "132/132 [==============================] - 1s 9ms/step - loss: 0.1444 - accuracy: 0.9867 - val_loss: 0.7309 - val_accuracy: 0.8501\n",
            "Epoch 141/200\n",
            "132/132 [==============================] - 1s 9ms/step - loss: 0.1413 - accuracy: 0.9893 - val_loss: 0.7296 - val_accuracy: 0.8520\n",
            "Epoch 142/200\n",
            "132/132 [==============================] - 1s 10ms/step - loss: 0.1376 - accuracy: 0.9905 - val_loss: 0.7309 - val_accuracy: 0.8501\n",
            "Epoch 143/200\n",
            "132/132 [==============================] - 1s 8ms/step - loss: 0.1381 - accuracy: 0.9886 - val_loss: 0.7265 - val_accuracy: 0.8501\n",
            "Epoch 144/200\n",
            "132/132 [==============================] - 1s 8ms/step - loss: 0.1302 - accuracy: 0.9888 - val_loss: 0.7289 - val_accuracy: 0.8501\n",
            "Epoch 145/200\n",
            "132/132 [==============================] - 1s 8ms/step - loss: 0.1289 - accuracy: 0.9879 - val_loss: 0.7246 - val_accuracy: 0.8501\n",
            "Epoch 146/200\n",
            "132/132 [==============================] - 1s 8ms/step - loss: 0.1253 - accuracy: 0.9891 - val_loss: 0.7249 - val_accuracy: 0.8520\n",
            "Epoch 147/200\n",
            "132/132 [==============================] - 1s 8ms/step - loss: 0.1245 - accuracy: 0.9893 - val_loss: 0.7230 - val_accuracy: 0.8501\n",
            "Epoch 148/200\n",
            "132/132 [==============================] - 1s 8ms/step - loss: 0.1210 - accuracy: 0.9896 - val_loss: 0.7207 - val_accuracy: 0.8539\n",
            "Epoch 149/200\n",
            "132/132 [==============================] - 1s 8ms/step - loss: 0.1161 - accuracy: 0.9907 - val_loss: 0.7228 - val_accuracy: 0.8501\n",
            "Epoch 150/200\n",
            "132/132 [==============================] - 1s 8ms/step - loss: 0.1170 - accuracy: 0.9896 - val_loss: 0.7197 - val_accuracy: 0.8501\n",
            "Epoch 151/200\n",
            "132/132 [==============================] - 2s 12ms/step - loss: 0.1123 - accuracy: 0.9905 - val_loss: 0.7203 - val_accuracy: 0.8539\n",
            "Epoch 152/200\n",
            "132/132 [==============================] - 1s 8ms/step - loss: 0.1089 - accuracy: 0.9926 - val_loss: 0.7210 - val_accuracy: 0.8482\n",
            "Epoch 153/200\n",
            "132/132 [==============================] - 1s 9ms/step - loss: 0.1083 - accuracy: 0.9915 - val_loss: 0.7172 - val_accuracy: 0.8539\n",
            "Epoch 154/200\n",
            "132/132 [==============================] - 1s 11ms/step - loss: 0.1034 - accuracy: 0.9922 - val_loss: 0.7178 - val_accuracy: 0.8482\n",
            "Epoch 155/200\n",
            "132/132 [==============================] - 1s 11ms/step - loss: 0.1007 - accuracy: 0.9922 - val_loss: 0.7158 - val_accuracy: 0.8520\n",
            "Epoch 156/200\n",
            "132/132 [==============================] - 1s 8ms/step - loss: 0.0987 - accuracy: 0.9936 - val_loss: 0.7165 - val_accuracy: 0.8520\n",
            "Epoch 157/200\n",
            "132/132 [==============================] - 1s 8ms/step - loss: 0.0973 - accuracy: 0.9936 - val_loss: 0.7174 - val_accuracy: 0.8482\n",
            "Epoch 158/200\n",
            "132/132 [==============================] - 1s 8ms/step - loss: 0.0961 - accuracy: 0.9929 - val_loss: 0.7172 - val_accuracy: 0.8520\n",
            "Epoch 159/200\n",
            "132/132 [==============================] - 1s 11ms/step - loss: 0.0948 - accuracy: 0.9938 - val_loss: 0.7149 - val_accuracy: 0.8501\n",
            "Epoch 160/200\n",
            "132/132 [==============================] - 1s 10ms/step - loss: 0.0908 - accuracy: 0.9943 - val_loss: 0.7142 - val_accuracy: 0.8520\n",
            "Epoch 161/200\n",
            "132/132 [==============================] - 1s 8ms/step - loss: 0.0903 - accuracy: 0.9945 - val_loss: 0.7142 - val_accuracy: 0.8520\n",
            "Epoch 162/200\n",
            "132/132 [==============================] - 1s 8ms/step - loss: 0.0886 - accuracy: 0.9938 - val_loss: 0.7153 - val_accuracy: 0.8520\n",
            "Epoch 163/200\n",
            "132/132 [==============================] - 1s 8ms/step - loss: 0.0834 - accuracy: 0.9948 - val_loss: 0.7178 - val_accuracy: 0.8501\n",
            "Epoch 164/200\n",
            "132/132 [==============================] - 1s 8ms/step - loss: 0.0826 - accuracy: 0.9945 - val_loss: 0.7115 - val_accuracy: 0.8482\n",
            "Epoch 165/200\n",
            "132/132 [==============================] - 1s 8ms/step - loss: 0.0820 - accuracy: 0.9945 - val_loss: 0.7148 - val_accuracy: 0.8482\n",
            "Epoch 166/200\n",
            "132/132 [==============================] - 1s 8ms/step - loss: 0.0790 - accuracy: 0.9948 - val_loss: 0.7157 - val_accuracy: 0.8520\n",
            "Epoch 167/200\n",
            "132/132 [==============================] - 1s 8ms/step - loss: 0.0776 - accuracy: 0.9953 - val_loss: 0.7108 - val_accuracy: 0.8539\n",
            "Epoch 168/200\n",
            "132/132 [==============================] - 1s 9ms/step - loss: 0.0773 - accuracy: 0.9945 - val_loss: 0.7111 - val_accuracy: 0.8501\n",
            "Epoch 169/200\n",
            "132/132 [==============================] - 2s 13ms/step - loss: 0.0756 - accuracy: 0.9950 - val_loss: 0.7095 - val_accuracy: 0.8520\n",
            "Epoch 170/200\n",
            "132/132 [==============================] - 1s 9ms/step - loss: 0.0706 - accuracy: 0.9955 - val_loss: 0.7124 - val_accuracy: 0.8539\n",
            "Epoch 171/200\n",
            "132/132 [==============================] - 1s 9ms/step - loss: 0.0701 - accuracy: 0.9960 - val_loss: 0.7136 - val_accuracy: 0.8482\n",
            "Epoch 172/200\n",
            "132/132 [==============================] - 1s 9ms/step - loss: 0.0699 - accuracy: 0.9964 - val_loss: 0.7114 - val_accuracy: 0.8520\n",
            "Epoch 173/200\n",
            "132/132 [==============================] - 1s 8ms/step - loss: 0.0661 - accuracy: 0.9969 - val_loss: 0.7148 - val_accuracy: 0.8501\n",
            "Epoch 174/200\n",
            "132/132 [==============================] - 1s 8ms/step - loss: 0.0653 - accuracy: 0.9972 - val_loss: 0.7113 - val_accuracy: 0.8520\n",
            "Epoch 174: early stopping\n"
          ]
        }
      ],
      "source": [
        "# training the model\n",
        "epochs = 200\n",
        "\n",
        "callback = tf.keras.callbacks.EarlyStopping(monitor='val_loss',\n",
        "                                            patience=5,\n",
        "                                            verbose=1)\n",
        "\n",
        "history = model.fit(train_ds,\n",
        "                    validation_data=val_ds,\n",
        "                    epochs=epochs,\n",
        "                    callbacks=[callback])"
      ]
    },
    {
      "cell_type": "code",
      "execution_count": 68,
      "metadata": {
        "colab": {
          "base_uri": "https://localhost:8080/"
        },
        "id": "FksY9EwwHDkd",
        "outputId": "ba924150-47a3-45b0-850e-1e2835f843f0"
      },
      "outputs": [
        {
          "output_type": "stream",
          "name": "stdout",
          "text": [
            "17/17 [==============================] - 0s 2ms/step - loss: 0.7559 - accuracy: 0.8349\n",
            "Loss:  0.7558644413948059\n",
            "Accuracy:  0.8349146246910095\n"
          ]
        }
      ],
      "source": [
        "# printing loss and accuracy of the model on the test set\n",
        "loss, accuracy = model.evaluate(test_ds)\n",
        "print(\"Loss: \", loss)\n",
        "print(\"Accuracy: \", accuracy)"
      ]
    },
    {
      "cell_type": "code",
      "execution_count": 69,
      "metadata": {
        "colab": {
          "base_uri": "https://localhost:8080/"
        },
        "id": "cPdyDruxHIv1",
        "outputId": "6ca02d91-7941-4213-b715-330cca43daa9"
      },
      "outputs": [
        {
          "output_type": "execute_result",
          "data": {
            "text/plain": [
              "dict_keys(['loss', 'accuracy', 'val_loss', 'val_accuracy'])"
            ]
          },
          "metadata": {},
          "execution_count": 69
        }
      ],
      "source": [
        "# extracting the history of training and its keys\n",
        "history_dict = history.history\n",
        "history_dict.keys()"
      ]
    },
    {
      "cell_type": "code",
      "execution_count": 70,
      "metadata": {
        "id": "shbF_xRlHDqZ"
      },
      "outputs": [],
      "source": [
        "acc = history_dict['accuracy']\n",
        "val_acc = history_dict['val_accuracy']\n",
        "loss = history_dict['loss']\n",
        "val_loss = history_dict['val_loss']\n",
        "\n",
        "epochs = range(1, len(acc) + 1)"
      ]
    },
    {
      "cell_type": "code",
      "execution_count": 71,
      "metadata": {
        "colab": {
          "base_uri": "https://localhost:8080/",
          "height": 472
        },
        "id": "iLsoTgHGP7Oq",
        "outputId": "5ac4276c-523a-441e-c41a-6fdfdac64e8c"
      },
      "outputs": [
        {
          "output_type": "display_data",
          "data": {
            "text/plain": [
              "<Figure size 640x480 with 1 Axes>"
            ],
            "image/png": "[encoded data removed]"
          },
          "metadata": {}
        }
      ],
      "source": [
        "# ploting of loss\n",
        "plt.plot(epochs, loss, 'b', label='Training loss')\n",
        "plt.plot(epochs, val_loss, 'r', label='Validation loss')\n",
        "plt.title('Training and validation loss')\n",
        "plt.xlabel('Epochs')\n",
        "plt.ylabel('Loss')\n",
        "plt.legend()\n",
        "plt.show()"
      ]
    },
    {
      "cell_type": "code",
      "execution_count": 72,
      "metadata": {
        "colab": {
          "base_uri": "https://localhost:8080/",
          "height": 472
        },
        "id": "1uWqq-CtP-Lq",
        "outputId": "2ee7b7bb-f13b-46aa-9138-c6bbc859648c"
      },
      "outputs": [
        {
          "output_type": "display_data",
          "data": {
            "text/plain": [
              "<Figure size 640x480 with 1 Axes>"
            ],
            "image/png": "[encoded data removed]"
          },
          "metadata": {}
        }
      ],
      "source": [
        "# plotting of accuracy\n",
        "plt.plot(epochs, acc, 'b', label='Training acc')\n",
        "plt.plot(epochs, val_acc, 'r', label='Validation acc')\n",
        "plt.title('Training and validation accuracy')\n",
        "plt.xlabel('Epochs')\n",
        "plt.ylabel('Accuracy')\n",
        "plt.legend(loc='lower right')\n",
        "plt.show()"
      ]
    },
    {
      "cell_type": "code",
      "execution_count": 73,
      "metadata": {
        "id": "YQj61lIMvX-Y",
        "colab": {
          "base_uri": "https://localhost:8080/"
        },
        "outputId": "dc7789f7-af44-49d4-f4f7-a5955c47e255"
      },
      "outputs": [
        {
          "output_type": "stream",
          "name": "stdout",
          "text": [
            "17/17 [==============================] - 0s 1ms/step\n"
          ]
        }
      ],
      "source": [
        "# creating the probability model for testing\n",
        "probability_model = tf.keras.Sequential([model, tf.keras.layers.Softmax()])\n",
        "\n",
        "# predicting test samples\n",
        "predictions = probability_model.predict(raw_test_batch.map(vectorize_text))"
      ]
    },
    {
      "cell_type": "code",
      "execution_count": 74,
      "metadata": {
        "colab": {
          "base_uri": "https://localhost:8080/"
        },
        "id": "5cbhBKR7NYPQ",
        "outputId": "dc9f92e6-ba6f-4b1a-f9d8-6d612d9b6936"
      },
      "outputs": [
        {
          "output_type": "execute_result",
          "data": {
            "text/plain": [
              "17"
            ]
          },
          "metadata": {},
          "execution_count": 74
        }
      ],
      "source": [
        "# showing the first test sample result label\n",
        "np.argmax(predictions[0])"
      ]
    },
    {
      "cell_type": "code",
      "execution_count": 87,
      "metadata": {
        "colab": {
          "base_uri": "https://localhost:8080/"
        },
        "id": "aNsnTWVuu3xj",
        "outputId": "535c8405-cb73-4f61-c866-ddf3264cd240"
      },
      "outputs": [
        {
          "output_type": "stream",
          "name": "stdout",
          "text": [
            "fluke tone on tone premium hooded sweat shirt erazor bits 4xl 5xl apparel fishing green hooded sweat shirt large lifestyle humor medium rr track mil small large xx large xxx large \n",
            "label: Sporting Goods\n"
          ]
        }
      ],
      "source": [
        "# showing the true label of the first test sample\n",
        "x = test_df.iloc[0]\n",
        "ser = pd.Series(x, copy=False)\n",
        "print(ser.iloc[0])\n",
        "print('label: {}'.format(labels_names[ser.iloc[1]]))"
      ]
    },
    {
      "cell_type": "markdown",
      "metadata": {
        "id": "CSw7kwIQipyc"
      },
      "source": [
        "**Author:** https://farrokhkarimi.github.io/"
      ]
    }
  ],
  "metadata": {
    "colab": {
      "provenance": []
    },
    "kernelspec": {
      "display_name": "Python 3",
      "name": "python3"
    },
    "language_info": {
      "name": "python"
    }
  },
  "nbformat": 4,
  "nbformat_minor": 0
}